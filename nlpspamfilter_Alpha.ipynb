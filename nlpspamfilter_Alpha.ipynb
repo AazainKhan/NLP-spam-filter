{
 "cells": [
  {
   "cell_type": "code",
   "execution_count": 1,
   "metadata": {},
   "outputs": [],
   "source": [
    "#1.Load the data into a pandas data frame.\n",
    "import pandas as pd\n",
    "import pandas as pd\n",
    "import os\n",
    "filename = 'Youtube01-Psy.csv'\n",
    "\n",
    "data_teamalpha_yt = pd.read_csv(filename)"
   ]
  },
  {
   "cell_type": "code",
   "execution_count": 27,
   "metadata": {},
   "outputs": [
    {
     "name": "stdout",
     "output_type": "stream",
     "text": [
      "Column Data Types:\n",
      "AUTHOR     object\n",
      "CONTENT    object\n",
      "dtype: object\n",
      "\n",
      "(Rows, Columns):\n",
      "(350, 2)\n",
      "\n",
      "First 10 Values: \n",
      "             AUTHOR                                            CONTENT\n",
      "0         Julius NM  Huh, anyway check out this you[tube] channel: ...\n",
      "1       adam riyati  Hey guys check out my new channel and our firs...\n",
      "2  Evgeny Murashkin             just for test I have to say murdev.com\n",
      "3   ElNino Melendez   me shaking my sexy ass on my channel enjoy ^_^ ﻿\n",
      "4            GsMega            watch?v=vtaRGgvGtWQ   Check this out .﻿\n",
      "5      Jason Haddad  Hey, check out my new website!! This site is a...\n",
      "6    ferleck ferles                          Subscribe to my channel ﻿\n",
      "7      Bob Kanowski  i turned it on mute as soon is i came on i jus...\n",
      "8              Cony    You should check my channel for Funny VIDEOS!!﻿\n",
      "9       BeBe Burkey  and u should.d check my channel and tell me wh...\n"
     ]
    }
   ],
   "source": [
    "#2.Carry out some basic data exploration and present your results. \n",
    "#(Note: You only need two columns for this project, make sure you identify them correctly, if any doubts ask your professor)\n",
    "\n",
    "#The 2 columns we need are author and content\n",
    "data_teamalpha_yt = data_teamalpha_yt[['AUTHOR', 'CONTENT']]\n",
    "\n",
    "print(\"Column Data Types:\")\n",
    "print(data_teamalpha_yt.dtypes)\n",
    "\n",
    "print(\"\\n(Rows, Columns):\")\n",
    "print(data_teamalpha_yt.shape)\n",
    "\n",
    "print(\"\\nFirst 10 Values: \")\n",
    "print(data_teamalpha_yt.head(10))"
   ]
  },
  {
   "cell_type": "code",
   "execution_count": 3,
   "metadata": {},
   "outputs": [
    {
     "name": "stderr",
     "output_type": "stream",
     "text": [
      "[nltk_data] Downloading package punkt to\n",
      "[nltk_data]     C:\\Users\\gcast\\AppData\\Roaming\\nltk_data...\n",
      "[nltk_data]   Package punkt is already up-to-date!\n"
     ]
    }
   ],
   "source": [
    "#3 Using nltk toolkit classes and methods prepare the data for model building, \n",
    "#refer to the third lab tutorial in module 11 (Building a Category text predictor). \n",
    "#Use count_vectorizer.fit_transform().\n",
    "import nltk\n",
    "from sklearn.feature_extraction.text import CountVectorizer\n",
    "from sklearn.model_selection import train_test_split\n",
    "from sklearn.naive_bayes import MultinomialNB\n",
    "from sklearn.metrics import accuracy_score, classification_report\n",
    "\n",
    "#Download punkt\n",
    "#nltk.download('punkt')\n",
    "\n",
    "#Tokenization function using NLTK\n",
    "def tokenize_text(text):\n",
    "    words = nltk.word_tokenize(text)\n",
    "    return words\n",
    "\n",
    "# Tokenize the content and preprocess the data\n",
    "data_teamalpha_yt['tokenized_content'] = data_teamalpha_yt['CONTENT'].apply(tokenize_text)\n",
    "\n",
    "# Separate the data into features (X) and target variable (y)\n",
    "X = data_teamalpha_yt['tokenized_content']\n",
    "y = data_teamalpha_yt['AUTHOR']\n",
    "\n",
    "# Split the data into training and testing sets\n",
    "X_train, X_test, y_train, y_test = train_test_split(X, y, test_size=0.2, random_state=7)\n",
    "\n",
    "# Convert the list of tokens back to strings\n",
    "X_train_strings = [' '.join(tokens) for tokens in X_train]\n",
    "\n",
    "# Convert the text data to a document-term matrix using CountVectorizer\n",
    "count_vectorizer = CountVectorizer()\n",
    "X_train_count = count_vectorizer.fit_transform(X_train_strings)\n",
    "X_test_count = count_vectorizer.transform([' '.join(tokens) for tokens in X_test])"
   ]
  },
  {
   "cell_type": "code",
   "execution_count": 12,
   "metadata": {},
   "outputs": [
    {
     "name": "stdout",
     "output_type": "stream",
     "text": [
      "Original Data Shape: (350,)\n",
      "Transformed Data Shape: (280, 1218)\n",
      "Vocabulary Size: 1218\n",
      "Sample Features: ['00' '000' '02' '034' '05' '08' '100' '10200253113705769' '1030'\n",
      " '1073741828']\n",
      "Density of Document-Term Matrix: 1.0280319024161388\n"
     ]
    }
   ],
   "source": [
    "#4\n",
    "# Print the shapes\n",
    "print(\"Original Data Shape:\", X.shape)\n",
    "print(\"Transformed Data Shape:\", X_train_count.shape)\n",
    "\n",
    "# Vocabulary size\n",
    "vocab_size = len(count_vectorizer.get_feature_names_out())\n",
    "print(\"Vocabulary Size:\", vocab_size)\n",
    "\n",
    "# Sample features\n",
    "sample_features = count_vectorizer.get_feature_names_out()[:10]\n",
    "print(\"Sample Features:\", sample_features)\n",
    "\n",
    "# Density of the document-term matrix\n",
    "density = (X_train_count.nnz / (X_train_count.shape[0] * X_train_count.shape[1])) * 100\n",
    "print(\"Density of Document-Term Matrix:\", density)\n"
   ]
  },
  {
   "cell_type": "code",
   "execution_count": null,
   "metadata": {},
   "outputs": [
    {
     "name": "stderr",
     "output_type": "stream",
     "text": [
      "[nltk_data] Downloading package wordnet to\n",
      "[nltk_data]     C:\\Users\\gcast\\AppData\\Roaming\\nltk_data...\n"
     ]
    },
    {
     "name": "stdout",
     "output_type": "stream",
     "text": [
      "['running', 'runner', 'ran', 'better']\n"
     ]
    }
   ],
   "source": [
    "\n"
   ]
  }
 ],
 "metadata": {
  "kernelspec": {
   "display_name": "base",
   "language": "python",
   "name": "python3"
  },
  "language_info": {
   "codemirror_mode": {
    "name": "ipython",
    "version": 3
   },
   "file_extension": ".py",
   "mimetype": "text/x-python",
   "name": "python",
   "nbconvert_exporter": "python",
   "pygments_lexer": "ipython3",
   "version": "3.11.4"
  }
 },
 "nbformat": 4,
 "nbformat_minor": 2
}
